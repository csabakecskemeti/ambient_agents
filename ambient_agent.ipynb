{
 "cells": [
  {
   "cell_type": "code",
   "execution_count": null,
   "id": "c6dec7b8-589a-443b-bddb-59ca42d3b7e2",
   "metadata": {},
   "outputs": [],
   "source": [
    "!pip install langchain_openai langchain-mcp-adapters langgraph --quiet"
   ]
  },
  {
   "cell_type": "code",
   "execution_count": 2,
   "id": "8e4d6993-1a40-47db-b62b-180301c13573",
   "metadata": {},
   "outputs": [],
   "source": [
    "from langchain_openai import ChatOpenAI\n",
    "\n",
    "llm = ChatOpenAI(\n",
    "    model=\"qwen2.5-7b-instruct\",\n",
    "    temperature=0,\n",
    "    max_tokens=None,\n",
    "    timeout=None,\n",
    "    max_retries=2,\n",
    "    api_key=\"none\",\n",
    "    base_url=\"http://127.0.0.1:1234/v1\",\n",
    ")"
   ]
  },
  {
   "cell_type": "code",
   "execution_count": 3,
   "id": "a512be8b-ebea-4896-ae94-a10b8f5af822",
   "metadata": {},
   "outputs": [],
   "source": [
    "# from langchain_core.messages import HumanMessage\n",
    "\n",
    "# messages = [HumanMessage(content=\"Hello, how are you?\")]"
   ]
  },
  {
   "cell_type": "code",
   "execution_count": 4,
   "id": "ae870914-2ce6-4103-a7cd-eb7bc990142a",
   "metadata": {},
   "outputs": [],
   "source": [
    "# llm.invoke(messages)"
   ]
  },
  {
   "cell_type": "code",
   "execution_count": 5,
   "id": "bbc51a30-9f90-4643-8d59-42aac29cf486",
   "metadata": {},
   "outputs": [],
   "source": [
    "from langchain_mcp_adapters.client import MultiServerMCPClient\n",
    "from langgraph.prebuilt import create_react_agent\n",
    "\n",
    "client = MultiServerMCPClient(\n",
    "    {\n",
    "        \"emails\": {\n",
    "            \"command\": \"python\",\n",
    "            \"args\": [\"./mcp_emails.py\"],\n",
    "            \"transport\": \"stdio\",\n",
    "        }\n",
    "    }\n",
    ")\n",
    "tools = await client.get_tools()\n",
    "agent = create_react_agent(llm, tools)\n"
   ]
  },
  {
   "cell_type": "code",
   "execution_count": 6,
   "id": "c70e6775-946d-4743-99f2-b86f1b843200",
   "metadata": {},
   "outputs": [],
   "source": [
    "response = await agent.ainvoke({\"messages\": \"Give me the new emails\"})"
   ]
  },
  {
   "cell_type": "code",
   "execution_count": 7,
   "id": "c4ae40d5-7b58-4bf5-babf-83076db9c9a4",
   "metadata": {},
   "outputs": [
    {
     "data": {
      "text/plain": [
       "'Here is a new email you received:\\n\\n- **From:** prince@nigeria.gov\\n- **To:** bob@example.com\\n- **Subject:** Urgent: Claim your inheritance\\n- **Body:** Congratulations! You\\'ve been selected to receive $10 million. Please send your bank details immediately to claim your prize.\\n\\nThis looks like a potential scam, also known as a \"Nigerian prince\" email. Be cautious and do not reply with any personal information.'"
      ]
     },
     "execution_count": 7,
     "metadata": {},
     "output_type": "execute_result"
    }
   ],
   "source": [
    "response.get(\"messages\")[-1].content"
   ]
  },
  {
   "cell_type": "code",
   "execution_count": 8,
   "id": "17e6832d-9118-43ff-97c2-aa3e8b61eda0",
   "metadata": {},
   "outputs": [],
   "source": [
    "# response"
   ]
  },
  {
   "cell_type": "code",
   "execution_count": 9,
   "id": "98c311f2-fbd5-48e7-b5ff-08442f425e44",
   "metadata": {},
   "outputs": [],
   "source": [
    "from typing_extensions import TypedDict\n",
    "class TypedDictState(TypedDict):\n",
    "    email: str"
   ]
  },
  {
   "cell_type": "code",
   "execution_count": 10,
   "id": "95c2715d-6d07-4ec4-af23-095c0bded441",
   "metadata": {},
   "outputs": [
    {
     "data": {
      "image/png": "[encoded data removed]",
      "text/plain": [
       "<IPython.core.display.Image object>"
      ]
     },
     "metadata": {},
     "output_type": "display_data"
    }
   ],
   "source": [
    "import random\n",
    "from IPython.display import Image, display\n",
    "from langgraph.graph import StateGraph, START, END\n",
    "from typing import Literal\n",
    "\n",
    "\n",
    "async def wait_for_email(state):\n",
    "    print(\"---wait_for_email---\")\n",
    "    response = await agent.ainvoke({\"messages\": \"Give me the new emails\"})\n",
    "    return {\"email\": response.get(\"messages\")[-1].content}\n",
    "\n",
    "def spam(state):\n",
    "    print(f\"---process_email---\\n deleted: {state.get(\"email\")}\")\n",
    "    return\n",
    "\n",
    "async def important(state):\n",
    "    print(\"---important---\")\n",
    "    task = f\"\"\"Give me a short summary of\n",
    "            \n",
    "            Email:\n",
    "            {state.get(\"email\")}\n",
    "            \"\"\"\n",
    "    response = await agent.ainvoke({\"messages\": task})\n",
    "    print(f\"Summary:\\n {response.get(\"messages\")[-1].content}\")\n",
    "    return response\n",
    "\n",
    "async def classify_email(state) -> Literal[\"spam\", \"important\"]:\n",
    "    print(\"---process_email---\")\n",
    "    \n",
    "    task = f\"\"\"Decide if the following email is important or spam.\n",
    "                Only respond with IMPORTANT or SPAM.\n",
    "                \n",
    "                Email:\n",
    "                {state.get(\"email\")}\n",
    "                \"\"\"\n",
    "    response = await agent.ainvoke({\"messages\": task})\n",
    "\n",
    "    # Normalize response\n",
    "    normalized = response.get(\"messages\")[-1].content.strip().lower()\n",
    "\n",
    "    if normalized == \"important\":\n",
    "        return \"important\"\n",
    "    elif normalized == \"spam\":\n",
    "        return \"spam\"\n",
    "    else:\n",
    "        # Handle unexpected response gracefully\n",
    "        print(f\"⚠️ Unexpected agent response: {response!r}\")\n",
    "        return \"spam\"  # or use \"important\" as the fallback if more appropriate\n",
    "\n",
    "# Build graph\n",
    "builder = StateGraph(TypedDictState)\n",
    "builder.add_node(\"wait_for_email\", wait_for_email)\n",
    "builder.add_node(\"spam\", spam)\n",
    "builder.add_node(\"important\", important)\n",
    "\n",
    "# Logic\n",
    "builder.add_edge(START, \"wait_for_email\")\n",
    "builder.add_conditional_edges(\"wait_for_email\", classify_email)\n",
    "builder.add_edge(\"spam\", \"wait_for_email\")\n",
    "builder.add_edge(\"important\", \"wait_for_email\")\n",
    "\n",
    "# Add\n",
    "graph = builder.compile()\n",
    "\n",
    "# View\n",
    "display(Image(graph.get_graph().draw_mermaid_png()))"
   ]
  },
  {
   "cell_type": "code",
   "execution_count": null,
   "id": "e3d26a5e-f6d0-4e11-9082-64c441cc7602",
   "metadata": {},
   "outputs": [
    {
     "name": "stdout",
     "output_type": "stream",
     "text": [
      "---wait_for_email---\n"
     ]
    }
   ],
   "source": [
    "await graph.ainvoke({})"
   ]
  },
  {
   "cell_type": "code",
   "execution_count": null,
   "id": "115d4a08-edc3-48be-ae8b-9de81c6efaa2",
   "metadata": {},
   "outputs": [],
   "source": []
  }
 ],
 "metadata": {
  "kernelspec": {
   "display_name": "Python 3 (ipykernel)",
   "language": "python",
   "name": "python3"
  },
  "language_info": {
   "codemirror_mode": {
    "name": "ipython",
    "version": 3
   },
   "file_extension": ".py",
   "mimetype": "text/x-python",
   "name": "python",
   "nbconvert_exporter": "python",
   "pygments_lexer": "ipython3",
   "version": "3.12.11"
  }
 },
 "nbformat": 4,
 "nbformat_minor": 5
}
